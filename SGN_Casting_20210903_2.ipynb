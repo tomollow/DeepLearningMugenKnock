{
  "nbformat": 4,
  "nbformat_minor": 0,
  "metadata": {
    "colab": {
      "name": "SGN_Casting_20210903_2.ipynb のコピー",
      "provenance": [],
      "collapsed_sections": [],
      "toc_visible": true,
      "include_colab_link": true
    },
    "kernelspec": {
      "display_name": "Python 3",
      "name": "python3"
    },
    "accelerator": "GPU"
  },
  "cells": [
    {
      "cell_type": "markdown",
      "metadata": {
        "id": "view-in-github",
        "colab_type": "text"
      },
      "source": [
        "<a href=\"https://colab.research.google.com/github/tomollow/DeepLearningMugenKnock/blob/main/SGN_Casting_20210903_2.ipynb\" target=\"_parent\"><img src=\"https://colab.research.google.com/assets/colab-badge.svg\" alt=\"Open In Colab\"/></a>"
      ]
    },
    {
      "cell_type": "markdown",
      "metadata": {
        "id": "RldyjemLqDXe"
      },
      "source": [
        "\n",
        "# **【練習問題】鋳造製品の欠陥検出**  \n",
        "https://signate.jp/competitions/406/data\n",
        "\n",
        "---\n",
        "\n",
        "Pytorchを使った2値分類  \n",
        "モデル：EfficientNet B0　入力サイズ：256 * 256 * 3ch\n",
        "\n",
        "（モデル：EfficientNet B5の場合　入力サイズ：456 * 456 * 3ch)\n",
        "<br>test\n"
      ]
    },
    {
      "cell_type": "markdown",
      "metadata": {
        "id": "CMCwGXe-WupI"
      },
      "source": [
        "参考  \n",
        "https://axa.biopapyrus.jp/deep-learning/pytorch/simple-cnn-classification.html\n",
        "\n",
        "Dataloader  \n",
        "https://pystyle.info/pytorch-how-to-create-custom-dataset-class/  \n",
        "https://qiita.com/kumonk/items/0f3cad018cc9aec67a63\n",
        "\n",
        "交差検証  \n",
        "https://qiita.com/ground0state/items/ad879a84bf946ef94da8  \n",
        "\n",
        "学習  \n",
        "https://hntk03.hatenablog.com/entry/2019/08/27/112435\n",
        "\n",
        "コンペ：prob space 宗教画テーマの分類  \n",
        "トピック EfficientNetB0使ったベースライン紹介(skywalker氏)  \n",
        "https://comp.probspace.com/competitions/religious_art/submissions\\\\"
      ]
    },
    {
      "cell_type": "markdown",
      "metadata": {
        "id": "bm3vSEEp0CHz"
      },
      "source": [
        "# マウント"
      ]
    },
    {
      "cell_type": "code",
      "metadata": {
        "colab": {
          "base_uri": "https://localhost:8080/"
        },
        "id": "AiFICu0bz-8q",
        "outputId": "403db594-0b2c-463e-800a-7894ce61eaa4"
      },
      "source": [
        "from google.colab import drive\n",
        "drive.mount('/content/drive')"
      ],
      "execution_count": null,
      "outputs": [
        {
          "output_type": "stream",
          "name": "stdout",
          "text": [
            "Drive already mounted at /content/drive; to attempt to forcibly remount, call drive.mount(\"/content/drive\", force_remount=True).\n"
          ]
        }
      ]
    },
    {
      "cell_type": "markdown",
      "metadata": {
        "id": "hVNoUNk0bAL2"
      },
      "source": [
        "# Setting"
      ]
    },
    {
      "cell_type": "code",
      "metadata": {
        "colab": {
          "base_uri": "https://localhost:8080/"
        },
        "id": "OO0lVjLbbIZu",
        "outputId": "09f1a407-09bc-4bb3-9ba3-5461a9713814"
      },
      "source": [
        "!nvidia-smi"
      ],
      "execution_count": null,
      "outputs": [
        {
          "output_type": "stream",
          "name": "stdout",
          "text": [
            "Fri Sep  3 21:08:55 2021       \n",
            "+-----------------------------------------------------------------------------+\n",
            "| NVIDIA-SMI 470.63.01    Driver Version: 460.32.03    CUDA Version: 11.2     |\n",
            "|-------------------------------+----------------------+----------------------+\n",
            "| GPU  Name        Persistence-M| Bus-Id        Disp.A | Volatile Uncorr. ECC |\n",
            "| Fan  Temp  Perf  Pwr:Usage/Cap|         Memory-Usage | GPU-Util  Compute M. |\n",
            "|                               |                      |               MIG M. |\n",
            "|===============================+======================+======================|\n",
            "|   0  Tesla K80           Off  | 00000000:00:04.0 Off |                    0 |\n",
            "| N/A   44C    P0    57W / 149W |   2157MiB / 11441MiB |      0%      Default |\n",
            "|                               |                      |                  N/A |\n",
            "+-------------------------------+----------------------+----------------------+\n",
            "                                                                               \n",
            "+-----------------------------------------------------------------------------+\n",
            "| Processes:                                                                  |\n",
            "|  GPU   GI   CI        PID   Type   Process name                  GPU Memory |\n",
            "|        ID   ID                                                   Usage      |\n",
            "|=============================================================================|\n",
            "|  No running processes found                                                 |\n",
            "+-----------------------------------------------------------------------------+\n"
          ]
        }
      ]
    },
    {
      "cell_type": "code",
      "metadata": {
        "id": "ST8jePcWbKem"
      },
      "source": [
        "# !pip uninstall albumentations -y\n",
        "# !pip install albumentations==0.4.5 -q\n",
        "!pip install albumentations==0.5.0 -q"
      ],
      "execution_count": null,
      "outputs": []
    },
    {
      "cell_type": "code",
      "metadata": {
        "id": "Om6NpJutbMih"
      },
      "source": [
        "!pip install timm -q"
      ],
      "execution_count": null,
      "outputs": []
    },
    {
      "cell_type": "markdown",
      "metadata": {
        "id": "JHMr41d5zjf6"
      },
      "source": [
        "# パス指定"
      ]
    },
    {
      "cell_type": "code",
      "metadata": {
        "id": "NLh2Ztdt0Vdr"
      },
      "source": [
        "BASE_PATH = '/content/drive/MyDrive/Colab Notebooks/SIGNATE_鋳造/'\n",
        "\n",
        "OUTPUT_DIR = '/content/drive/Othercomputers/myPC/GoogleDrive/OutputFile/Signate_Casting/'\n"
      ],
      "execution_count": null,
      "outputs": []
    },
    {
      "cell_type": "markdown",
      "metadata": {
        "id": "Ro7AvASOJXn5"
      },
      "source": [
        "# **import**"
      ]
    },
    {
      "cell_type": "code",
      "metadata": {
        "id": "lvt04YLKidvv"
      },
      "source": [
        "import warnings\n",
        "warnings.simplefilter('ignore')\n",
        "import os\n",
        "import gc\n",
        "gc.enable()\n",
        "import sys\n",
        "import glob\n",
        "import time\n",
        "import random\n",
        "import numpy as np\n",
        "import pandas as pd\n",
        "from PIL import Image\n",
        "import matplotlib.pyplot as plt\n",
        "import torch\n",
        "import torchvision\n",
        "import torch.nn as nn\n",
        "import torch.nn.functional as Func\n",
        "import torch.optim as optim\n",
        "from torchvision import datasets, models, transforms\n",
        "from sklearn.model_selection import GroupKFold, StratifiedKFold\n",
        "from datetime import datetime\n",
        "from tqdm.autonotebook import tqdm as tqdm\n",
        "import albumentations as A\n",
        "from albumentations.pytorch import ToTensorV2\n",
        "from sklearn.metrics import roc_auc_score\n",
        "import timm\n",
        "\n",
        "import datetime\n",
        "\n",
        "from torch.utils.data import DataLoader, Dataset\n",
        "from torchvision import transforms\n",
        "from pathlib import Path"
      ],
      "execution_count": null,
      "outputs": []
    },
    {
      "cell_type": "code",
      "metadata": {
        "id": "Qqk7xVQXilAv",
        "colab": {
          "base_uri": "https://localhost:8080/"
        },
        "outputId": "a1760622-8898-4d48-e1db-df5a843bd452"
      },
      "source": [
        "  !rm /etc/localtime\n",
        "  !ln -s /usr/share/zoneinfo/Asia/Tokyo /etc/localtime\n",
        "  !date\n",
        "\n",
        "#終了時刻\n",
        "time_of_begin = datetime.datetime.now(datetime.timezone(datetime.timedelta(hours=9)))"
      ],
      "execution_count": null,
      "outputs": [
        {
          "output_type": "stream",
          "name": "stdout",
          "text": [
            "Fri Sep  3 21:09:01 JST 2021\n"
          ]
        }
      ]
    },
    {
      "cell_type": "markdown",
      "metadata": {
        "id": "L_Aj0xV6A-yK"
      },
      "source": [
        "# 乱数シード固定"
      ]
    },
    {
      "cell_type": "code",
      "metadata": {
        "id": "-6wWYV33hP4E"
      },
      "source": [
        "def seed_everything(seed:int==42):\n",
        "    random.seed(seed)\n",
        "    os.environ['PYTHONHASHSEED'] = str(seed)\n",
        "    np.random.seed(seed)\n",
        "    \n",
        "    torch.manual_seed(seed)\n",
        "    torch.cuda.manual_seed_all(seed)\n",
        "    torch.backends.cudnn.deterministic = True\n",
        "\n",
        "seed_everything(32)"
      ],
      "execution_count": null,
      "outputs": []
    },
    {
      "cell_type": "markdown",
      "metadata": {
        "id": "YYbOZFvgmimv"
      },
      "source": [
        "# データ読み込み"
      ]
    },
    {
      "cell_type": "markdown",
      "metadata": {
        "id": "NE9IYwPGMk3E"
      },
      "source": [
        "## MyDataset(未使用)"
      ]
    },
    {
      "cell_type": "code",
      "metadata": {
        "id": "-DmEuDhOhwrj"
      },
      "source": [
        "import torchvision.transforms as transforms\n",
        "\n",
        "class MyDataset(torch.utils.data.Dataset):\n",
        "\n",
        "  def __init__(self, imageSize, dir_path, transform=None):\n",
        "    self.transforms = transforms.Compose([\n",
        "                                          transforms.Resize(imageSize),\n",
        "                                          transforms.ToTensor(),\n",
        "    ])\n",
        "\n",
        "    train_data_dir = dir_path + \"train_data/\"\n",
        "    self.image_paths = [str(p) for p in Path(train_data_dir).glob(\"*.jpeg\")]\n",
        "    self.data_num = len(self.image_paths) #lenの返り値\n",
        "\n",
        "    # ラベル用のデータ読み込み\n",
        "    self.train_labels = pd.read_csv(dir_path + \"train.csv\", index_col='id')\n",
        "\n",
        "  def __len__(self):\n",
        "    return self.data_num\n",
        "\n",
        "  def __getitem__(self, idx):\n",
        "    p = self.image_paths[idx]\n",
        "    image = Image.open(p)\n",
        "\n",
        "    print(p)\n",
        "\n",
        "    if self.transform:\n",
        "      out_data = self.transform(image)\n",
        "\n",
        "    #ラベル取り出し\n",
        "    str_p = p.rsplit('/', 1)[1]    \n",
        "    label = self.train_labels['target'][str_p]\n",
        "\n",
        "    return out_data, out_label\n"
      ],
      "execution_count": null,
      "outputs": []
    },
    {
      "cell_type": "markdown",
      "metadata": {
        "id": "QJ8O6ZIzPNHB"
      },
      "source": [
        "## TrainDataset"
      ]
    },
    {
      "cell_type": "code",
      "metadata": {
        "id": "3aOKfKA4PNHD"
      },
      "source": [
        "import torchvision.transforms as transforms\n",
        "\n",
        "class TrainDataset(torch.utils.data.Dataset):\n",
        "\n",
        "  def __init__(self, imageSize, dir_path, index, transform=None):\n",
        "    self.transform = A.Compose([\n",
        "                                          A.Resize(imageSize,imageSize),\n",
        "                                          A.VerticalFlip(p=0.5),\n",
        "                                          A.HorizontalFlip(p=0.5),\n",
        "                                          # A.Normalize(),\n",
        "                                          ToTensorV2(),\n",
        "    ])\n",
        "\n",
        "    train_data_dir = dir_path + \"train_data/\"\n",
        "    self.image_paths = [str(p) for p in Path(train_data_dir).glob(\"*.jpeg\")]\n",
        "\n",
        "    self.index = index\n",
        "    # print(index[1])\n",
        "    # print(index[249])\n",
        "\n",
        "    self.data_num = len(self.index) #lenの返り値\n",
        "\n",
        "    # ラベル用のデータ読み込み\n",
        "    self.train_labels = pd.read_csv(dir_path + \"train.csv\", index_col='id')\n",
        "\n",
        "  def __len__(self):\n",
        "    return self.data_num\n",
        "\n",
        "  def __getitem__(self, idx):\n",
        "    current_index = self.index[idx]\n",
        "    # print(idx)\n",
        "    # print(current_index)\n",
        "\n",
        "    p = self.image_paths[current_index]\n",
        "    image = Image.open(p)\n",
        "    image = np.array(image)\n",
        "\n",
        "    img = self.transform(image=image)\n",
        "    out_data = img['image']\n",
        "\n",
        "    #ラベル取り出し\n",
        "    str_p = p.rsplit('/', 1)[1]    \n",
        "    out_label = self.train_labels['target'][str_p]\n",
        "\n",
        "    return {\n",
        "            'image' : torch.tensor(out_data, dtype=torch.float),\n",
        "            'target' : torch.tensor(out_label, dtype=torch.float).long(),}\n"
      ],
      "execution_count": null,
      "outputs": []
    },
    {
      "cell_type": "markdown",
      "metadata": {
        "id": "3iBgztf-IJ_O"
      },
      "source": [
        "## TestDataset"
      ]
    },
    {
      "cell_type": "code",
      "metadata": {
        "id": "EQ63Vtb8IJ_R"
      },
      "source": [
        "class TestDataset(torch.utils.data.Dataset):\n",
        "\n",
        "  def __init__(self, imageSize, dir_path, transform=None):\n",
        "    self.transform = A.Compose([\n",
        "                                          A.Resize(imageSize,imageSize),\n",
        "                                          # A.Normalize(),\n",
        "                                          ToTensorV2(),\n",
        "    ])\n",
        "\n",
        "\n",
        "    train_data_dir = dir_path + \"test_data/\"\n",
        "    self.image_paths = [str(p) for p in Path(train_data_dir).glob(\"*.jpeg\")]\n",
        "\n",
        "    self.data_num = len(self.image_paths) #lenの返り値\n",
        "\n",
        "  def __len__(self):\n",
        "    return self.data_num\n",
        "\n",
        "  def __getitem__(self, idx):\n",
        "    # print(self.image_paths[idx])\n",
        "    p = self.image_paths[idx]\n",
        "    image = Image.open(p)\n",
        "    image = np.array(image)\n",
        "\n",
        "    img = self.transform(image=image)\n",
        "    out_data = img['image']\n",
        "\n",
        "    return {\n",
        "            'image' : torch.tensor(out_data, dtype=torch.float),}\n"
      ],
      "execution_count": null,
      "outputs": []
    },
    {
      "cell_type": "markdown",
      "metadata": {
        "id": "oLOJcpMDTbvX"
      },
      "source": [
        "# 全データ取得"
      ]
    },
    {
      "cell_type": "code",
      "metadata": {
        "id": "gpOxqIvzIWNV",
        "colab": {
          "base_uri": "https://localhost:8080/",
          "height": 473
        },
        "outputId": "a1925b10-9009-47b7-d65b-bf5d64991685"
      },
      "source": [
        "train_labels = pd.read_csv(BASE_PATH + \"train.csv\", index_col='id')\n",
        "\n",
        "print(train_labels.shape)\n",
        "train_labels"
      ],
      "execution_count": null,
      "outputs": [
        {
          "output_type": "stream",
          "name": "stdout",
          "text": [
            "(250, 1)\n"
          ]
        },
        {
          "output_type": "execute_result",
          "data": {
            "text/html": [
              "<div>\n",
              "<style scoped>\n",
              "    .dataframe tbody tr th:only-of-type {\n",
              "        vertical-align: middle;\n",
              "    }\n",
              "\n",
              "    .dataframe tbody tr th {\n",
              "        vertical-align: top;\n",
              "    }\n",
              "\n",
              "    .dataframe thead th {\n",
              "        text-align: right;\n",
              "    }\n",
              "</style>\n",
              "<table border=\"1\" class=\"dataframe\">\n",
              "  <thead>\n",
              "    <tr style=\"text-align: right;\">\n",
              "      <th></th>\n",
              "      <th>target</th>\n",
              "    </tr>\n",
              "    <tr>\n",
              "      <th>id</th>\n",
              "      <th></th>\n",
              "    </tr>\n",
              "  </thead>\n",
              "  <tbody>\n",
              "    <tr>\n",
              "      <th>cast_def_0_335.jpeg</th>\n",
              "      <td>0</td>\n",
              "    </tr>\n",
              "    <tr>\n",
              "      <th>cast_def_0_323.jpeg</th>\n",
              "      <td>0</td>\n",
              "    </tr>\n",
              "    <tr>\n",
              "      <th>cast_def_0_61.jpeg</th>\n",
              "      <td>0</td>\n",
              "    </tr>\n",
              "    <tr>\n",
              "      <th>cast_def_0_163.jpeg</th>\n",
              "      <td>0</td>\n",
              "    </tr>\n",
              "    <tr>\n",
              "      <th>cast_def_0_175.jpeg</th>\n",
              "      <td>0</td>\n",
              "    </tr>\n",
              "    <tr>\n",
              "      <th>...</th>\n",
              "      <td>...</td>\n",
              "    </tr>\n",
              "    <tr>\n",
              "      <th>cast_ok_0_346.jpeg</th>\n",
              "      <td>1</td>\n",
              "    </tr>\n",
              "    <tr>\n",
              "      <th>cast_ok_0_307.jpeg</th>\n",
              "      <td>1</td>\n",
              "    </tr>\n",
              "    <tr>\n",
              "      <th>cast_ok_0_242.jpeg</th>\n",
              "      <td>1</td>\n",
              "    </tr>\n",
              "    <tr>\n",
              "      <th>cast_ok_0_184.jpeg</th>\n",
              "      <td>1</td>\n",
              "    </tr>\n",
              "    <tr>\n",
              "      <th>cast_ok_0_350.jpeg</th>\n",
              "      <td>1</td>\n",
              "    </tr>\n",
              "  </tbody>\n",
              "</table>\n",
              "<p>250 rows × 1 columns</p>\n",
              "</div>"
            ],
            "text/plain": [
              "                     target\n",
              "id                         \n",
              "cast_def_0_335.jpeg       0\n",
              "cast_def_0_323.jpeg       0\n",
              "cast_def_0_61.jpeg        0\n",
              "cast_def_0_163.jpeg       0\n",
              "cast_def_0_175.jpeg       0\n",
              "...                     ...\n",
              "cast_ok_0_346.jpeg        1\n",
              "cast_ok_0_307.jpeg        1\n",
              "cast_ok_0_242.jpeg        1\n",
              "cast_ok_0_184.jpeg        1\n",
              "cast_ok_0_350.jpeg        1\n",
              "\n",
              "[250 rows x 1 columns]"
            ]
          },
          "metadata": {},
          "execution_count": 239
        }
      ]
    },
    {
      "cell_type": "markdown",
      "metadata": {
        "id": "Wb1_nlnunBkD"
      },
      "source": [
        "# Model"
      ]
    },
    {
      "cell_type": "code",
      "metadata": {
        "id": "Ed8DRzUCfVsc"
      },
      "source": [
        "# モデル\n",
        "MODEL_DEFINE = 'efficientnet_b0'\n",
        "\n",
        "# クラス\n",
        "CLASSES = 2\n",
        "\n",
        "# エポック\n",
        "EPOCHS = 10\n"
      ],
      "execution_count": null,
      "outputs": []
    },
    {
      "cell_type": "code",
      "metadata": {
        "id": "PEJ-ucVInFQt"
      },
      "source": [
        "class Model(nn.Module):    \n",
        "    def __init__(self, pretrained=False):\n",
        "        super().__init__()\n",
        "        self.modelbase = timm.create_model(MODEL_DEFINE, \n",
        "                                          pretrained=pretrained,\n",
        "                                          in_chans=3)        \n",
        "        self.n_features = self.modelbase.classifier.in_features\n",
        "        self.modelbase.classifier = nn.Linear(self.n_features, CLASSES)\n",
        "\n",
        "    def forward(self, x):\n",
        "        output = self.modelbase(x)\n",
        "        output = Func.log_softmax(output, dim = 1)\n",
        "        return output\n"
      ],
      "execution_count": null,
      "outputs": []
    },
    {
      "cell_type": "code",
      "metadata": {
        "id": "6N6GrRoXK6Mj"
      },
      "source": [
        "momdel = Model()\n",
        "\n",
        "# model"
      ],
      "execution_count": null,
      "outputs": []
    },
    {
      "cell_type": "markdown",
      "metadata": {
        "id": "aUqEOR_xKLhF"
      },
      "source": [
        "# 学習"
      ]
    },
    {
      "cell_type": "code",
      "metadata": {
        "id": "65ixLoYDhelk"
      },
      "source": [
        "# 学習率\n",
        "LEARNING_RATE = 1e-3\n",
        "\n",
        "# 減衰率\n",
        "WEIGHT_DECAY = 1e-5\n",
        "\n",
        "# GPU/CPU\n",
        "DEVICE = torch.device('cuda' if torch.cuda.is_available() else 'cpu')\n",
        "\n",
        "# ベストケースのモデル情報の格納場所\n",
        "MODEL_DIR = BASE_PATH + \"model_data/\"\n",
        "\n",
        "# fold数\n",
        "FOLDS = 3"
      ],
      "execution_count": null,
      "outputs": []
    },
    {
      "cell_type": "markdown",
      "metadata": {
        "id": "8SGxSHTMKp4a"
      },
      "source": [
        "## 学習関数"
      ]
    },
    {
      "cell_type": "code",
      "metadata": {
        "id": "5lNxEQbSKx8p"
      },
      "source": [
        "def func_train(model, device, optimizer, loss_function, train_loader):\n",
        "    model.train()\n",
        "    running_loss = 0\n",
        "    correct = 0\n",
        "    total = 0\n",
        "    \n",
        "    for batch_idx,  train in enumerate(train_loader):\n",
        "        images = train['image'].to(device)\n",
        "        labels = train['target'].to(device)\n",
        "        \n",
        "        optimizer.zero_grad() \n",
        "        preds = model(images)\n",
        "        \n",
        "        loss = loss_function(preds, labels)\n",
        "        loss.backward()\n",
        "        optimizer.step()\n",
        "        \n",
        "        running_loss += loss.item()\n",
        "        \n",
        "    train_loss = running_loss / len(train_loader)\n",
        "    \n",
        "    return train_loss"
      ],
      "execution_count": null,
      "outputs": []
    },
    {
      "cell_type": "markdown",
      "metadata": {
        "id": "YGRAohZFnx5t"
      },
      "source": [
        "## valid関数"
      ]
    },
    {
      "cell_type": "code",
      "metadata": {
        "id": "eUMuwsMUnx6B"
      },
      "source": [
        "\n",
        "def func_valid(model, device, loss_function, dataloader ):    \n",
        "    model.eval()\n",
        "    running_loss = 0\n",
        "    test_preds = []\n",
        "\n",
        "    for batch_idx, valid in enumerate(dataloader):\n",
        "        images = valid['image'].to(device)\n",
        "        labels = valid['target'].to(device)\n",
        "        preds = model(images)     \n",
        "        \n",
        "        loss = loss_function(preds, labels) \n",
        "        running_loss += loss.item()\n",
        "\n",
        "    valid_loss = running_loss / len(dataloader)   \n",
        "    return valid_loss"
      ],
      "execution_count": null,
      "outputs": []
    },
    {
      "cell_type": "markdown",
      "metadata": {
        "id": "nmDjvVExXfVu"
      },
      "source": [
        "## テスト関数"
      ]
    },
    {
      "cell_type": "code",
      "metadata": {
        "id": "MiHXyISkWVt4"
      },
      "source": [
        "\n",
        "def func_test(model, device, dataloader ):    \n",
        "    model.eval()        \n",
        "    final_loss = 0\n",
        "    test_preds = []\n",
        "\n",
        "    for step, test in enumerate(dataloader):\n",
        "        print(\"stap=\",step)    \n",
        "        images = test['image'].to(device)\n",
        "        preds = model(images)            \n",
        "        test_preds.append(preds.sigmoid().detach().cpu().numpy())                \n",
        "    \n",
        "    test_preds = np.concatenate(test_preds)    \n",
        "    return test_preds"
      ],
      "execution_count": null,
      "outputs": []
    },
    {
      "cell_type": "markdown",
      "metadata": {
        "id": "P9bxYc-TXiEL"
      },
      "source": [
        "## fold"
      ]
    },
    {
      "cell_type": "code",
      "metadata": {
        "colab": {
          "base_uri": "https://localhost:8080/"
        },
        "id": "OClC8zR9KiCy",
        "outputId": "f802b089-425e-4477-ed69-a648f70a1a7b"
      },
      "source": [
        "# kf = StratifiedKFold(n_splits=3)\n",
        "from sklearn.model_selection import KFold\n",
        "\n",
        "\n",
        "kf = KFold(n_splits=FOLDS, shuffle=True)\n",
        "batch_size = 16\n",
        "\n",
        "\n",
        "# テストデータの数を知りたい\n",
        "dir = BASE_PATH + \"test_data/\"\n",
        "test_len = sum(os.path.isfile(os.path.join(dir,name)) for name in os.listdir(dir))\n",
        "\n",
        "# pred初期化\n",
        "pred = np.zeros((test_len, CLASSES))\n",
        "\n",
        "cv = 0\n",
        "for _fold, (train_index, valid_index) in enumerate(kf.split(train_labels)):\n",
        "  # print(train_index)\n",
        "  # print(valid_index)  \n",
        "\n",
        "  # loss最小値の初期化(とりあえず100)\n",
        "  min_loss = 100\n",
        "\n",
        "\n",
        "  train_dataset = TrainDataset(224, dir_path=BASE_PATH, index = train_index)\n",
        "  train_dataloader = DataLoader(train_dataset, batch_size, shuffle=True)\n",
        "\n",
        "  valid_dataset = TrainDataset(224, dir_path=BASE_PATH, index = valid_index)\n",
        "  valid_dataloader = DataLoader(valid_dataset, batch_size, shuffle=False)\n",
        "\n",
        "  model = Model(pretrained=True)\n",
        "  model.to(DEVICE)\n",
        "  optimizer = torch.optim.Adam(model.parameters(),\n",
        "                                lr=LEARNING_RATE,\n",
        "                                weight_decay=WEIGHT_DECAY)\n",
        "  \n",
        "  loss_function = nn.CrossEntropyLoss()\n",
        "\n",
        "  start_time = time.time()\n",
        "  end_time = start_time\n",
        "\n",
        "  # 学習\n",
        "  # EPOCHS = 2 # for test\n",
        "  for epoch in range(EPOCHS):\n",
        "    start_time = time.time()\n",
        "\n",
        "    train_loss = func_train(model, DEVICE, optimizer, loss_function, train_dataloader)\n",
        "    valid_loss = func_valid(model, DEVICE, loss_function, valid_dataloader)\n",
        "\n",
        "    if valid_loss < min_loss:\n",
        "        min_loss = valid_loss            \n",
        "        MODEL_PATH = f\"{MODEL_DIR}best_{MODEL_DEFINE}_fold{_fold+1}.pth\"\n",
        "        torch.save(model.state_dict(), MODEL_PATH)\n",
        "    # else:\n",
        "    #     continue\n",
        "\n",
        "    end_time = time.time()\n",
        "    print(f\"FOLD: {_fold+1} | EPOCH:{epoch+1:02d} | train_loss:{train_loss:.6f} | valid_loss:{valid_loss:.6f} | time:{end_time-start_time:.1f}s \")\n",
        "\n",
        "  print(\"final valid_loss : \",valid_loss )\n",
        "\n",
        "  model.load_state_dict(torch.load(MODEL_PATH))\n",
        "  test_dataset = TestDataset(224, dir_path=BASE_PATH)\n",
        "  test_dataloader = DataLoader(test_dataset, batch_size, shuffle=False)\n",
        "\n",
        "  pred_list = func_test(model, DEVICE, test_dataloader)\n",
        "\n",
        "  # print(pred_list)\n",
        "\n",
        "  pred += pred_list/FOLDS\n"
      ],
      "execution_count": null,
      "outputs": [
        {
          "output_type": "stream",
          "name": "stdout",
          "text": [
            "FOLD: 1 | EPOCH:01 | train_loss:0.400189 | valid_loss:0.860911 | time:3.9s \n",
            "FOLD: 1 | EPOCH:02 | train_loss:0.228317 | valid_loss:1.892234 | time:3.6s \n",
            "FOLD: 1 | EPOCH:03 | train_loss:0.103543 | valid_loss:0.201341 | time:3.8s \n",
            "FOLD: 1 | EPOCH:04 | train_loss:0.107693 | valid_loss:0.250724 | time:3.6s \n",
            "FOLD: 1 | EPOCH:05 | train_loss:0.016840 | valid_loss:0.047633 | time:3.9s \n",
            "FOLD: 1 | EPOCH:06 | train_loss:0.034487 | valid_loss:0.043807 | time:3.8s \n",
            "FOLD: 1 | EPOCH:07 | train_loss:0.008682 | valid_loss:0.032841 | time:3.7s \n",
            "FOLD: 1 | EPOCH:08 | train_loss:0.006681 | valid_loss:0.036553 | time:3.6s \n",
            "FOLD: 1 | EPOCH:09 | train_loss:0.048845 | valid_loss:0.311793 | time:3.6s \n",
            "FOLD: 1 | EPOCH:10 | train_loss:0.256979 | valid_loss:0.785926 | time:3.7s \n",
            "final valid_loss :  0.785925810944415\n",
            "stap= 0\n",
            "stap= 1\n",
            "stap= 2\n",
            "stap= 3\n",
            "stap= 4\n",
            "stap= 5\n",
            "stap= 6\n",
            "FOLD: 2 | EPOCH:01 | train_loss:0.325674 | valid_loss:0.693255 | time:4.2s \n",
            "FOLD: 2 | EPOCH:02 | train_loss:0.087282 | valid_loss:0.311405 | time:3.8s \n",
            "FOLD: 2 | EPOCH:03 | train_loss:0.101929 | valid_loss:0.010897 | time:3.8s \n",
            "FOLD: 2 | EPOCH:04 | train_loss:0.073380 | valid_loss:0.012866 | time:3.7s \n",
            "FOLD: 2 | EPOCH:05 | train_loss:0.034697 | valid_loss:0.048874 | time:3.7s \n",
            "FOLD: 2 | EPOCH:06 | train_loss:0.139121 | valid_loss:0.863100 | time:3.6s \n",
            "FOLD: 2 | EPOCH:07 | train_loss:0.080568 | valid_loss:0.045863 | time:3.6s \n",
            "FOLD: 2 | EPOCH:08 | train_loss:0.017936 | valid_loss:0.007151 | time:3.8s \n",
            "FOLD: 2 | EPOCH:09 | train_loss:0.008506 | valid_loss:0.001886 | time:3.8s \n",
            "FOLD: 2 | EPOCH:10 | train_loss:0.016541 | valid_loss:0.155305 | time:3.7s \n",
            "final valid_loss :  0.15530454674380204\n",
            "stap= 0\n",
            "stap= 1\n",
            "stap= 2\n",
            "stap= 3\n",
            "stap= 4\n",
            "stap= 5\n",
            "stap= 6\n",
            "FOLD: 3 | EPOCH:01 | train_loss:0.342219 | valid_loss:4.311299 | time:4.2s \n",
            "FOLD: 3 | EPOCH:02 | train_loss:0.087106 | valid_loss:0.790513 | time:3.8s \n",
            "FOLD: 3 | EPOCH:03 | train_loss:0.104453 | valid_loss:0.200376 | time:3.8s \n",
            "FOLD: 3 | EPOCH:04 | train_loss:0.057746 | valid_loss:0.010740 | time:3.8s \n",
            "FOLD: 3 | EPOCH:05 | train_loss:0.014685 | valid_loss:0.100983 | time:3.6s \n",
            "FOLD: 3 | EPOCH:06 | train_loss:0.084234 | valid_loss:0.014206 | time:3.6s \n",
            "FOLD: 3 | EPOCH:07 | train_loss:0.011575 | valid_loss:0.045602 | time:3.6s \n",
            "FOLD: 3 | EPOCH:08 | train_loss:0.253858 | valid_loss:0.164766 | time:3.7s \n",
            "FOLD: 3 | EPOCH:09 | train_loss:0.149241 | valid_loss:0.389165 | time:3.6s \n",
            "FOLD: 3 | EPOCH:10 | train_loss:0.102256 | valid_loss:0.683391 | time:3.6s \n",
            "final valid_loss :  0.6833908495803674\n",
            "stap= 0\n",
            "stap= 1\n",
            "stap= 2\n",
            "stap= 3\n",
            "stap= 4\n",
            "stap= 5\n",
            "stap= 6\n"
          ]
        }
      ]
    },
    {
      "cell_type": "code",
      "metadata": {
        "colab": {
          "base_uri": "https://localhost:8080/"
        },
        "id": "T1IJr9uYeyM-",
        "outputId": "9eefcd3d-549f-4acd-e5d1-7ef910990a53"
      },
      "source": [
        "print (pred)"
      ],
      "execution_count": null,
      "outputs": [
        {
          "output_type": "stream",
          "name": "stdout",
          "text": [
            "[[4.99994516e-01 2.19142147e-05]\n",
            " [4.99639511e-01 1.43342189e-03]\n",
            " [4.99997497e-01 1.00285924e-05]\n",
            " [4.99996021e-01 1.58239546e-05]\n",
            " [4.99737084e-01 1.04933417e-03]\n",
            " [4.99953091e-01 1.87427264e-04]\n",
            " [4.94369626e-01 2.06601785e-02]\n",
            " [4.98534977e-01 5.78947691e-03]\n",
            " [4.99965280e-01 1.38740984e-04]\n",
            " [4.99948367e-01 2.06352665e-04]\n",
            " [4.99999136e-01 3.43647454e-06]\n",
            " [4.99205440e-01 3.13366521e-03]\n",
            " [4.99983653e-01 6.54318335e-05]\n",
            " [4.99982953e-01 6.81970535e-05]\n",
            " [4.99972597e-01 1.09510935e-04]\n",
            " [4.99936566e-01 2.53568707e-04]\n",
            " [4.99963686e-01 1.45253322e-04]\n",
            " [4.99991730e-01 3.30140592e-05]\n",
            " [4.99988019e-01 4.79142538e-05]\n",
            " [4.99999687e-01 1.23274491e-06]\n",
            " [4.71539513e-04 4.99881923e-01]\n",
            " [4.99817267e-01 7.29604633e-04]\n",
            " [4.99955818e-01 1.76666253e-04]\n",
            " [4.99989331e-01 4.27032867e-05]\n",
            " [4.99996781e-01 1.28348059e-05]\n",
            " [4.99997035e-01 1.18756139e-05]\n",
            " [4.99980167e-01 7.92578984e-05]\n",
            " [4.99976933e-01 9.22614280e-05]\n",
            " [4.99986067e-01 5.56070510e-05]\n",
            " [4.92405593e-01 2.67510472e-02]\n",
            " [4.99997571e-01 9.81981801e-06]\n",
            " [4.86090541e-01 4.44999288e-02]\n",
            " [4.99998420e-01 6.31212108e-06]\n",
            " [4.99997318e-01 1.07773931e-05]\n",
            " [4.99176711e-01 3.24767472e-03]\n",
            " [4.97721121e-01 8.80047196e-03]\n",
            " [4.99999627e-01 1.53906706e-06]\n",
            " [4.99969646e-01 1.21310735e-04]\n",
            " [4.99960616e-01 1.57415384e-04]\n",
            " [4.99159172e-01 3.31405221e-03]\n",
            " [4.99795347e-01 8.16840702e-04]\n",
            " [4.99992177e-01 3.12779659e-05]\n",
            " [4.99997795e-01 8.80168387e-06]\n",
            " [4.99892592e-01 4.29127328e-04]\n",
            " [4.99983087e-01 6.76203865e-05]\n",
            " [4.95565340e-01 1.64311995e-02]\n",
            " [4.99977559e-01 8.98251958e-05]\n",
            " [4.99969423e-01 1.22240548e-04]\n",
            " [4.99991640e-01 3.34881201e-05]\n",
            " [4.99994203e-01 2.32294369e-05]\n",
            " [3.63954288e-04 4.99908879e-01]\n",
            " [3.64796920e-04 4.99908626e-01]\n",
            " [5.65356668e-05 4.99985844e-01]\n",
            " [5.86498919e-02 4.80295584e-01]\n",
            " [2.37876520e-05 4.99994069e-01]\n",
            " [2.70519952e-05 4.99993250e-01]\n",
            " [3.24206890e-04 4.99918848e-01]\n",
            " [5.71899089e-04 4.99856710e-01]\n",
            " [7.67473551e-06 4.99998093e-01]\n",
            " [3.13623623e-04 4.99921530e-01]\n",
            " [2.19801656e-05 4.99994516e-01]\n",
            " [2.97605360e-03 4.99245927e-01]\n",
            " [6.12640924e-04 4.99846414e-01]\n",
            " [2.59938584e-03 4.99344960e-01]\n",
            " [5.35128988e-04 4.99866039e-01]\n",
            " [1.47646544e-03 4.99628544e-01]\n",
            " [1.89245557e-04 4.99952659e-01]\n",
            " [3.22859413e-04 4.99919221e-01]\n",
            " [4.63386458e-03 4.98829007e-01]\n",
            " [4.34712370e-04 4.99891132e-01]\n",
            " [9.92157698e-06 4.99997512e-01]\n",
            " [1.43553585e-02 4.96219888e-01]\n",
            " [2.39411235e-03 4.99395013e-01]\n",
            " [1.17024335e-05 4.99997064e-01]\n",
            " [1.07528432e-04 4.99973118e-01]\n",
            " [3.43311866e-03 4.99128953e-01]\n",
            " [6.62899168e-03 4.98291939e-01]\n",
            " [3.79348487e-05 4.99990523e-01]\n",
            " [1.28216991e-02 4.96617824e-01]\n",
            " [1.30139188e-02 4.96544406e-01]\n",
            " [4.52688202e-05 4.99988660e-01]\n",
            " [1.10808292e-01 4.44900006e-01]\n",
            " [3.22864741e-04 4.99919176e-01]\n",
            " [4.31325734e-05 4.99989212e-01]\n",
            " [1.08620575e-02 4.97148037e-01]\n",
            " [1.17750401e-03 4.99704152e-01]\n",
            " [1.70392881e-02 4.95386735e-01]\n",
            " [1.46019217e-05 4.99996349e-01]\n",
            " [8.51627599e-02 4.65521991e-01]\n",
            " [3.31192257e-02 4.90287781e-01]\n",
            " [3.75160658e-05 4.99990612e-01]\n",
            " [2.83698531e-04 4.99929056e-01]\n",
            " [7.47260594e-05 4.99981329e-01]\n",
            " [4.72226050e-03 4.98794541e-01]\n",
            " [3.07711188e-05 4.99992281e-01]\n",
            " [1.41226958e-01 4.03452367e-01]\n",
            " [9.23626437e-04 4.99768510e-01]\n",
            " [8.17990815e-03 4.97877970e-01]\n",
            " [9.21371660e-04 4.99768808e-01]\n",
            " [5.84371943e-05 4.99985382e-01]]\n"
          ]
        }
      ]
    },
    {
      "cell_type": "markdown",
      "metadata": {
        "id": "-jRpbLYev6nt"
      },
      "source": [
        "\n",
        "# 結果出力\n"
      ]
    },
    {
      "cell_type": "markdown",
      "metadata": {
        "id": "-lL-utLGt96J"
      },
      "source": [
        "## サンプルcsv読み込み"
      ]
    },
    {
      "cell_type": "code",
      "metadata": {
        "colab": {
          "base_uri": "https://localhost:8080/"
        },
        "id": "gP8g8Ns7pimU",
        "outputId": "304b8a43-9f29-4e1b-96c2-56ac0757c502"
      },
      "source": [
        "test_samples = pd.read_csv(BASE_PATH + \"sample_submission.csv\", header=None)\n",
        "\n",
        "pred_df = test_samples.set_axis(['filename', 'y'], axis=1)\n",
        "\n",
        "print(pred_df.shape)\n",
        "pred_df\n"
      ],
      "execution_count": null,
      "outputs": [
        {
          "output_type": "stream",
          "name": "stdout",
          "text": [
            "(100, 2)\n"
          ]
        },
        {
          "output_type": "execute_result",
          "data": {
            "text/html": [
              "<div>\n",
              "<style scoped>\n",
              "    .dataframe tbody tr th:only-of-type {\n",
              "        vertical-align: middle;\n",
              "    }\n",
              "\n",
              "    .dataframe tbody tr th {\n",
              "        vertical-align: top;\n",
              "    }\n",
              "\n",
              "    .dataframe thead th {\n",
              "        text-align: right;\n",
              "    }\n",
              "</style>\n",
              "<table border=\"1\" class=\"dataframe\">\n",
              "  <thead>\n",
              "    <tr style=\"text-align: right;\">\n",
              "      <th></th>\n",
              "      <th>filename</th>\n",
              "      <th>y</th>\n",
              "    </tr>\n",
              "  </thead>\n",
              "  <tbody>\n",
              "    <tr>\n",
              "      <th>0</th>\n",
              "      <td>19871.jpeg</td>\n",
              "      <td>0</td>\n",
              "    </tr>\n",
              "    <tr>\n",
              "      <th>1</th>\n",
              "      <td>29934.jpeg</td>\n",
              "      <td>0</td>\n",
              "    </tr>\n",
              "    <tr>\n",
              "      <th>2</th>\n",
              "      <td>39826.jpeg</td>\n",
              "      <td>0</td>\n",
              "    </tr>\n",
              "    <tr>\n",
              "      <th>3</th>\n",
              "      <td>49888.jpeg</td>\n",
              "      <td>0</td>\n",
              "    </tr>\n",
              "    <tr>\n",
              "      <th>4</th>\n",
              "      <td>59918.jpeg</td>\n",
              "      <td>0</td>\n",
              "    </tr>\n",
              "    <tr>\n",
              "      <th>...</th>\n",
              "      <td>...</td>\n",
              "      <td>...</td>\n",
              "    </tr>\n",
              "    <tr>\n",
              "      <th>95</th>\n",
              "      <td>969983.jpeg</td>\n",
              "      <td>0</td>\n",
              "    </tr>\n",
              "    <tr>\n",
              "      <th>96</th>\n",
              "      <td>979891.jpeg</td>\n",
              "      <td>0</td>\n",
              "    </tr>\n",
              "    <tr>\n",
              "      <th>97</th>\n",
              "      <td>989921.jpeg</td>\n",
              "      <td>0</td>\n",
              "    </tr>\n",
              "    <tr>\n",
              "      <th>98</th>\n",
              "      <td>999921.jpeg</td>\n",
              "      <td>0</td>\n",
              "    </tr>\n",
              "    <tr>\n",
              "      <th>99</th>\n",
              "      <td>1009937.jpeg</td>\n",
              "      <td>0</td>\n",
              "    </tr>\n",
              "  </tbody>\n",
              "</table>\n",
              "<p>100 rows × 2 columns</p>\n",
              "</div>"
            ],
            "text/plain": [
              "        filename  y\n",
              "0     19871.jpeg  0\n",
              "1     29934.jpeg  0\n",
              "2     39826.jpeg  0\n",
              "3     49888.jpeg  0\n",
              "4     59918.jpeg  0\n",
              "..           ... ..\n",
              "95   969983.jpeg  0\n",
              "96   979891.jpeg  0\n",
              "97   989921.jpeg  0\n",
              "98   999921.jpeg  0\n",
              "99  1009937.jpeg  0\n",
              "\n",
              "[100 rows x 2 columns]"
            ]
          },
          "metadata": {},
          "execution_count": 253
        }
      ]
    },
    {
      "cell_type": "markdown",
      "metadata": {
        "id": "3if5KTfF6ymg"
      },
      "source": [
        "## ファイル名をテストデータで入力している順にする\n",
        "\n",
        "テストディレクトリの読み出し順"
      ]
    },
    {
      "cell_type": "code",
      "metadata": {
        "colab": {
          "base_uri": "https://localhost:8080/",
          "height": 461
        },
        "id": "IoYtVGNa4_G9",
        "outputId": "e05262ea-ca07-47cb-9d55-7d5e054bd3cf"
      },
      "source": [
        "test_data_dir = BASE_PATH + \"test_data/\"\n",
        "test_image_paths = [str(p) for p in Path(test_data_dir).glob(\"*.jpeg\")]\n",
        "\n",
        "print(test_image_paths)\n",
        "\n",
        "for i in range(len(test_image_paths)):\n",
        "  test_image_paths[i] = test_image_paths[i].rsplit('/', 1)[1]\n",
        "\n",
        "pred_df['filename'] = test_image_paths\n",
        "\n",
        "pred_df"
      ],
      "execution_count": null,
      "outputs": [
        {
          "output_type": "stream",
          "name": "stdout",
          "text": [
            "['/content/drive/MyDrive/Colab Notebooks/SIGNATE_鋳造/test_data/229958.jpeg', '/content/drive/MyDrive/Colab Notebooks/SIGNATE_鋳造/test_data/559880.jpeg', '/content/drive/MyDrive/Colab Notebooks/SIGNATE_鋳造/test_data/699970.jpeg', '/content/drive/MyDrive/Colab Notebooks/SIGNATE_鋳造/test_data/609988.jpeg', '/content/drive/MyDrive/Colab Notebooks/SIGNATE_鋳造/test_data/929917.jpeg', '/content/drive/MyDrive/Colab Notebooks/SIGNATE_鋳造/test_data/89914.jpeg', '/content/drive/MyDrive/Colab Notebooks/SIGNATE_鋳造/test_data/79963.jpeg', '/content/drive/MyDrive/Colab Notebooks/SIGNATE_鋳造/test_data/779897.jpeg', '/content/drive/MyDrive/Colab Notebooks/SIGNATE_鋳造/test_data/549992.jpeg', '/content/drive/MyDrive/Colab Notebooks/SIGNATE_鋳造/test_data/709966.jpeg', '/content/drive/MyDrive/Colab Notebooks/SIGNATE_鋳造/test_data/589947.jpeg', '/content/drive/MyDrive/Colab Notebooks/SIGNATE_鋳造/test_data/949956.jpeg', '/content/drive/MyDrive/Colab Notebooks/SIGNATE_鋳造/test_data/269945.jpeg', '/content/drive/MyDrive/Colab Notebooks/SIGNATE_鋳造/test_data/719946.jpeg', '/content/drive/MyDrive/Colab Notebooks/SIGNATE_鋳造/test_data/889886.jpeg', '/content/drive/MyDrive/Colab Notebooks/SIGNATE_鋳造/test_data/689927.jpeg', '/content/drive/MyDrive/Colab Notebooks/SIGNATE_鋳造/test_data/339986.jpeg', '/content/drive/MyDrive/Colab Notebooks/SIGNATE_鋳造/test_data/849890.jpeg', '/content/drive/MyDrive/Colab Notebooks/SIGNATE_鋳造/test_data/219889.jpeg', '/content/drive/MyDrive/Colab Notebooks/SIGNATE_鋳造/test_data/279912.jpeg', '/content/drive/MyDrive/Colab Notebooks/SIGNATE_鋳造/test_data/409965.jpeg', '/content/drive/MyDrive/Colab Notebooks/SIGNATE_鋳造/test_data/569906.jpeg', '/content/drive/MyDrive/Colab Notebooks/SIGNATE_鋳造/test_data/499929.jpeg', '/content/drive/MyDrive/Colab Notebooks/SIGNATE_鋳造/test_data/399924.jpeg', '/content/drive/MyDrive/Colab Notebooks/SIGNATE_鋳造/test_data/129893.jpeg', '/content/drive/MyDrive/Colab Notebooks/SIGNATE_鋳造/test_data/809920.jpeg', '/content/drive/MyDrive/Colab Notebooks/SIGNATE_鋳造/test_data/309928.jpeg', '/content/drive/MyDrive/Colab Notebooks/SIGNATE_鋳造/test_data/49888.jpeg', '/content/drive/MyDrive/Colab Notebooks/SIGNATE_鋳造/test_data/169903.jpeg', '/content/drive/MyDrive/Colab Notebooks/SIGNATE_鋳造/test_data/979891.jpeg', '/content/drive/MyDrive/Colab Notebooks/SIGNATE_鋳造/test_data/199935.jpeg', '/content/drive/MyDrive/Colab Notebooks/SIGNATE_鋳造/test_data/999921.jpeg', '/content/drive/MyDrive/Colab Notebooks/SIGNATE_鋳造/test_data/139981.jpeg', '/content/drive/MyDrive/Colab Notebooks/SIGNATE_鋳造/test_data/299953.jpeg', '/content/drive/MyDrive/Colab Notebooks/SIGNATE_鋳造/test_data/149997.jpeg', '/content/drive/MyDrive/Colab Notebooks/SIGNATE_鋳造/test_data/729911.jpeg', '/content/drive/MyDrive/Colab Notebooks/SIGNATE_鋳造/test_data/459909.jpeg', '/content/drive/MyDrive/Colab Notebooks/SIGNATE_鋳造/test_data/389908.jpeg', '/content/drive/MyDrive/Colab Notebooks/SIGNATE_鋳造/test_data/429933.jpeg', '/content/drive/MyDrive/Colab Notebooks/SIGNATE_鋳造/test_data/119892.jpeg', '/content/drive/MyDrive/Colab Notebooks/SIGNATE_鋳造/test_data/799977.jpeg', '/content/drive/MyDrive/Colab Notebooks/SIGNATE_鋳造/test_data/859982.jpeg', '/content/drive/MyDrive/Colab Notebooks/SIGNATE_鋳造/test_data/69975.jpeg', '/content/drive/MyDrive/Colab Notebooks/SIGNATE_鋳造/test_data/179915.jpeg', '/content/drive/MyDrive/Colab Notebooks/SIGNATE_鋳造/test_data/599930.jpeg', '/content/drive/MyDrive/Colab Notebooks/SIGNATE_鋳造/test_data/579910.jpeg', '/content/drive/MyDrive/Colab Notebooks/SIGNATE_鋳造/test_data/109996.jpeg', '/content/drive/MyDrive/Colab Notebooks/SIGNATE_鋳造/test_data/1009937.jpeg', '/content/drive/MyDrive/Colab Notebooks/SIGNATE_鋳造/test_data/209923.jpeg', '/content/drive/MyDrive/Colab Notebooks/SIGNATE_鋳造/test_data/969983.jpeg', '/content/drive/MyDrive/Colab Notebooks/SIGNATE_鋳造/test_data/749878.jpeg', '/content/drive/MyDrive/Colab Notebooks/SIGNATE_鋳造/test_data/369861.jpeg', '/content/drive/MyDrive/Colab Notebooks/SIGNATE_鋳造/test_data/539843.jpeg', '/content/drive/MyDrive/Colab Notebooks/SIGNATE_鋳造/test_data/29934.jpeg', '/content/drive/MyDrive/Colab Notebooks/SIGNATE_鋳造/test_data/379924.jpeg', '/content/drive/MyDrive/Colab Notebooks/SIGNATE_鋳造/test_data/879941.jpeg', '/content/drive/MyDrive/Colab Notebooks/SIGNATE_鋳造/test_data/629822.jpeg', '/content/drive/MyDrive/Colab Notebooks/SIGNATE_鋳造/test_data/99851.jpeg', '/content/drive/MyDrive/Colab Notebooks/SIGNATE_鋳造/test_data/509856.jpeg', '/content/drive/MyDrive/Colab Notebooks/SIGNATE_鋳造/test_data/899886.jpeg', '/content/drive/MyDrive/Colab Notebooks/SIGNATE_鋳造/test_data/449821.jpeg', '/content/drive/MyDrive/Colab Notebooks/SIGNATE_鋳造/test_data/479840.jpeg', '/content/drive/MyDrive/Colab Notebooks/SIGNATE_鋳造/test_data/439948.jpeg', '/content/drive/MyDrive/Colab Notebooks/SIGNATE_鋳造/test_data/39826.jpeg', '/content/drive/MyDrive/Colab Notebooks/SIGNATE_鋳造/test_data/839998.jpeg', '/content/drive/MyDrive/Colab Notebooks/SIGNATE_鋳造/test_data/519895.jpeg', '/content/drive/MyDrive/Colab Notebooks/SIGNATE_鋳造/test_data/909994.jpeg', '/content/drive/MyDrive/Colab Notebooks/SIGNATE_鋳造/test_data/659835.jpeg', '/content/drive/MyDrive/Colab Notebooks/SIGNATE_鋳造/test_data/329953.jpeg', '/content/drive/MyDrive/Colab Notebooks/SIGNATE_鋳造/test_data/349836.jpeg', '/content/drive/MyDrive/Colab Notebooks/SIGNATE_鋳造/test_data/829920.jpeg', '/content/drive/MyDrive/Colab Notebooks/SIGNATE_鋳造/test_data/319945.jpeg', '/content/drive/MyDrive/Colab Notebooks/SIGNATE_鋳造/test_data/239962.jpeg', '/content/drive/MyDrive/Colab Notebooks/SIGNATE_鋳造/test_data/289969.jpeg', '/content/drive/MyDrive/Colab Notebooks/SIGNATE_鋳造/test_data/669862.jpeg', '/content/drive/MyDrive/Colab Notebooks/SIGNATE_鋳造/test_data/639930.jpeg', '/content/drive/MyDrive/Colab Notebooks/SIGNATE_鋳造/test_data/919995.jpeg', '/content/drive/MyDrive/Colab Notebooks/SIGNATE_鋳造/test_data/739881.jpeg', '/content/drive/MyDrive/Colab Notebooks/SIGNATE_鋳造/test_data/759854.jpeg', '/content/drive/MyDrive/Colab Notebooks/SIGNATE_鋳造/test_data/19871.jpeg', '/content/drive/MyDrive/Colab Notebooks/SIGNATE_鋳造/test_data/619967.jpeg', '/content/drive/MyDrive/Colab Notebooks/SIGNATE_鋳造/test_data/939891.jpeg', '/content/drive/MyDrive/Colab Notebooks/SIGNATE_鋳造/test_data/259831.jpeg', '/content/drive/MyDrive/Colab Notebooks/SIGNATE_鋳造/test_data/789907.jpeg', '/content/drive/MyDrive/Colab Notebooks/SIGNATE_鋳造/test_data/679931.jpeg', '/content/drive/MyDrive/Colab Notebooks/SIGNATE_鋳造/test_data/359973.jpeg', '/content/drive/MyDrive/Colab Notebooks/SIGNATE_鋳造/test_data/989921.jpeg', '/content/drive/MyDrive/Colab Notebooks/SIGNATE_鋳造/test_data/959829.jpeg', '/content/drive/MyDrive/Colab Notebooks/SIGNATE_鋳造/test_data/649971.jpeg', '/content/drive/MyDrive/Colab Notebooks/SIGNATE_鋳造/test_data/529883.jpeg', '/content/drive/MyDrive/Colab Notebooks/SIGNATE_鋳造/test_data/869957.jpeg', '/content/drive/MyDrive/Colab Notebooks/SIGNATE_鋳造/test_data/159915.jpeg', '/content/drive/MyDrive/Colab Notebooks/SIGNATE_鋳造/test_data/469837.jpeg', '/content/drive/MyDrive/Colab Notebooks/SIGNATE_鋳造/test_data/489913.jpeg', '/content/drive/MyDrive/Colab Notebooks/SIGNATE_鋳造/test_data/419909.jpeg', '/content/drive/MyDrive/Colab Notebooks/SIGNATE_鋳造/test_data/819873.jpeg', '/content/drive/MyDrive/Colab Notebooks/SIGNATE_鋳造/test_data/769946.jpeg', '/content/drive/MyDrive/Colab Notebooks/SIGNATE_鋳造/test_data/59918.jpeg', '/content/drive/MyDrive/Colab Notebooks/SIGNATE_鋳造/test_data/189978.jpeg', '/content/drive/MyDrive/Colab Notebooks/SIGNATE_鋳造/test_data/249889.jpeg']\n"
          ]
        },
        {
          "output_type": "execute_result",
          "data": {
            "text/html": [
              "<div>\n",
              "<style scoped>\n",
              "    .dataframe tbody tr th:only-of-type {\n",
              "        vertical-align: middle;\n",
              "    }\n",
              "\n",
              "    .dataframe tbody tr th {\n",
              "        vertical-align: top;\n",
              "    }\n",
              "\n",
              "    .dataframe thead th {\n",
              "        text-align: right;\n",
              "    }\n",
              "</style>\n",
              "<table border=\"1\" class=\"dataframe\">\n",
              "  <thead>\n",
              "    <tr style=\"text-align: right;\">\n",
              "      <th></th>\n",
              "      <th>filename</th>\n",
              "      <th>y</th>\n",
              "    </tr>\n",
              "  </thead>\n",
              "  <tbody>\n",
              "    <tr>\n",
              "      <th>0</th>\n",
              "      <td>229958.jpeg</td>\n",
              "      <td>0</td>\n",
              "    </tr>\n",
              "    <tr>\n",
              "      <th>1</th>\n",
              "      <td>559880.jpeg</td>\n",
              "      <td>0</td>\n",
              "    </tr>\n",
              "    <tr>\n",
              "      <th>2</th>\n",
              "      <td>699970.jpeg</td>\n",
              "      <td>0</td>\n",
              "    </tr>\n",
              "    <tr>\n",
              "      <th>3</th>\n",
              "      <td>609988.jpeg</td>\n",
              "      <td>0</td>\n",
              "    </tr>\n",
              "    <tr>\n",
              "      <th>4</th>\n",
              "      <td>929917.jpeg</td>\n",
              "      <td>0</td>\n",
              "    </tr>\n",
              "    <tr>\n",
              "      <th>...</th>\n",
              "      <td>...</td>\n",
              "      <td>...</td>\n",
              "    </tr>\n",
              "    <tr>\n",
              "      <th>95</th>\n",
              "      <td>819873.jpeg</td>\n",
              "      <td>0</td>\n",
              "    </tr>\n",
              "    <tr>\n",
              "      <th>96</th>\n",
              "      <td>769946.jpeg</td>\n",
              "      <td>0</td>\n",
              "    </tr>\n",
              "    <tr>\n",
              "      <th>97</th>\n",
              "      <td>59918.jpeg</td>\n",
              "      <td>0</td>\n",
              "    </tr>\n",
              "    <tr>\n",
              "      <th>98</th>\n",
              "      <td>189978.jpeg</td>\n",
              "      <td>0</td>\n",
              "    </tr>\n",
              "    <tr>\n",
              "      <th>99</th>\n",
              "      <td>249889.jpeg</td>\n",
              "      <td>0</td>\n",
              "    </tr>\n",
              "  </tbody>\n",
              "</table>\n",
              "<p>100 rows × 2 columns</p>\n",
              "</div>"
            ],
            "text/plain": [
              "       filename  y\n",
              "0   229958.jpeg  0\n",
              "1   559880.jpeg  0\n",
              "2   699970.jpeg  0\n",
              "3   609988.jpeg  0\n",
              "4   929917.jpeg  0\n",
              "..          ... ..\n",
              "95  819873.jpeg  0\n",
              "96  769946.jpeg  0\n",
              "97   59918.jpeg  0\n",
              "98  189978.jpeg  0\n",
              "99  249889.jpeg  0\n",
              "\n",
              "[100 rows x 2 columns]"
            ]
          },
          "metadata": {},
          "execution_count": 254
        }
      ]
    },
    {
      "cell_type": "markdown",
      "metadata": {
        "id": "FCC6TRoSuFDk"
      },
      "source": [
        "## 学習結果をセット"
      ]
    },
    {
      "cell_type": "code",
      "metadata": {
        "colab": {
          "base_uri": "https://localhost:8080/",
          "height": 424
        },
        "id": "q-ZsTwPDt1pg",
        "outputId": "ae417c1f-2d9d-4117-faac-714f93d163fd"
      },
      "source": [
        "pred_df['y'] = np.argmax(pred, axis=1).astype('int')\n",
        "\n",
        "pred_df"
      ],
      "execution_count": null,
      "outputs": [
        {
          "output_type": "execute_result",
          "data": {
            "text/html": [
              "<div>\n",
              "<style scoped>\n",
              "    .dataframe tbody tr th:only-of-type {\n",
              "        vertical-align: middle;\n",
              "    }\n",
              "\n",
              "    .dataframe tbody tr th {\n",
              "        vertical-align: top;\n",
              "    }\n",
              "\n",
              "    .dataframe thead th {\n",
              "        text-align: right;\n",
              "    }\n",
              "</style>\n",
              "<table border=\"1\" class=\"dataframe\">\n",
              "  <thead>\n",
              "    <tr style=\"text-align: right;\">\n",
              "      <th></th>\n",
              "      <th>filename</th>\n",
              "      <th>y</th>\n",
              "    </tr>\n",
              "  </thead>\n",
              "  <tbody>\n",
              "    <tr>\n",
              "      <th>0</th>\n",
              "      <td>229958.jpeg</td>\n",
              "      <td>0</td>\n",
              "    </tr>\n",
              "    <tr>\n",
              "      <th>1</th>\n",
              "      <td>559880.jpeg</td>\n",
              "      <td>0</td>\n",
              "    </tr>\n",
              "    <tr>\n",
              "      <th>2</th>\n",
              "      <td>699970.jpeg</td>\n",
              "      <td>0</td>\n",
              "    </tr>\n",
              "    <tr>\n",
              "      <th>3</th>\n",
              "      <td>609988.jpeg</td>\n",
              "      <td>0</td>\n",
              "    </tr>\n",
              "    <tr>\n",
              "      <th>4</th>\n",
              "      <td>929917.jpeg</td>\n",
              "      <td>0</td>\n",
              "    </tr>\n",
              "    <tr>\n",
              "      <th>...</th>\n",
              "      <td>...</td>\n",
              "      <td>...</td>\n",
              "    </tr>\n",
              "    <tr>\n",
              "      <th>95</th>\n",
              "      <td>819873.jpeg</td>\n",
              "      <td>1</td>\n",
              "    </tr>\n",
              "    <tr>\n",
              "      <th>96</th>\n",
              "      <td>769946.jpeg</td>\n",
              "      <td>1</td>\n",
              "    </tr>\n",
              "    <tr>\n",
              "      <th>97</th>\n",
              "      <td>59918.jpeg</td>\n",
              "      <td>1</td>\n",
              "    </tr>\n",
              "    <tr>\n",
              "      <th>98</th>\n",
              "      <td>189978.jpeg</td>\n",
              "      <td>1</td>\n",
              "    </tr>\n",
              "    <tr>\n",
              "      <th>99</th>\n",
              "      <td>249889.jpeg</td>\n",
              "      <td>1</td>\n",
              "    </tr>\n",
              "  </tbody>\n",
              "</table>\n",
              "<p>100 rows × 2 columns</p>\n",
              "</div>"
            ],
            "text/plain": [
              "       filename  y\n",
              "0   229958.jpeg  0\n",
              "1   559880.jpeg  0\n",
              "2   699970.jpeg  0\n",
              "3   609988.jpeg  0\n",
              "4   929917.jpeg  0\n",
              "..          ... ..\n",
              "95  819873.jpeg  1\n",
              "96  769946.jpeg  1\n",
              "97   59918.jpeg  1\n",
              "98  189978.jpeg  1\n",
              "99  249889.jpeg  1\n",
              "\n",
              "[100 rows x 2 columns]"
            ]
          },
          "metadata": {},
          "execution_count": 255
        }
      ]
    },
    {
      "cell_type": "code",
      "metadata": {
        "id": "gB-QBMwcoN6e",
        "colab": {
          "base_uri": "https://localhost:8080/",
          "height": 206
        },
        "outputId": "9fa9bdbf-8da9-4e14-8958-26066998f470"
      },
      "source": [
        "for i in range(CLASSES):\n",
        "    pred_df[f'pred_{i}'] = pred[:, i]\n",
        "\n",
        "now = datetime.datetime.now(datetime.timezone(datetime.timedelta(hours=9)))\n",
        "\n",
        "#詳細\n",
        "str_detail_file = OUTPUT_DIR  + 'SGN_Casting_detail_EffB0_' +  now.strftime('%m%d%H%M') +'.csv'\n",
        "pred_df.to_csv(str_detail_file, index=False)\n",
        "\n",
        "str_file = OUTPUT_DIR  + 'SGN_Casting_submit__EffB0_' +  now.strftime('%m%d%H%M') +'.csv'\n",
        "pred_df[['filename', 'y']].to_csv(str_file, header=False, index=False)\n",
        "\n",
        "display(pred_df.head())"
      ],
      "execution_count": null,
      "outputs": [
        {
          "output_type": "display_data",
          "data": {
            "text/html": [
              "<div>\n",
              "<style scoped>\n",
              "    .dataframe tbody tr th:only-of-type {\n",
              "        vertical-align: middle;\n",
              "    }\n",
              "\n",
              "    .dataframe tbody tr th {\n",
              "        vertical-align: top;\n",
              "    }\n",
              "\n",
              "    .dataframe thead th {\n",
              "        text-align: right;\n",
              "    }\n",
              "</style>\n",
              "<table border=\"1\" class=\"dataframe\">\n",
              "  <thead>\n",
              "    <tr style=\"text-align: right;\">\n",
              "      <th></th>\n",
              "      <th>filename</th>\n",
              "      <th>y</th>\n",
              "      <th>pred_0</th>\n",
              "      <th>pred_1</th>\n",
              "    </tr>\n",
              "  </thead>\n",
              "  <tbody>\n",
              "    <tr>\n",
              "      <th>0</th>\n",
              "      <td>229958.jpeg</td>\n",
              "      <td>0</td>\n",
              "      <td>0.499995</td>\n",
              "      <td>0.000022</td>\n",
              "    </tr>\n",
              "    <tr>\n",
              "      <th>1</th>\n",
              "      <td>559880.jpeg</td>\n",
              "      <td>0</td>\n",
              "      <td>0.499640</td>\n",
              "      <td>0.001433</td>\n",
              "    </tr>\n",
              "    <tr>\n",
              "      <th>2</th>\n",
              "      <td>699970.jpeg</td>\n",
              "      <td>0</td>\n",
              "      <td>0.499997</td>\n",
              "      <td>0.000010</td>\n",
              "    </tr>\n",
              "    <tr>\n",
              "      <th>3</th>\n",
              "      <td>609988.jpeg</td>\n",
              "      <td>0</td>\n",
              "      <td>0.499996</td>\n",
              "      <td>0.000016</td>\n",
              "    </tr>\n",
              "    <tr>\n",
              "      <th>4</th>\n",
              "      <td>929917.jpeg</td>\n",
              "      <td>0</td>\n",
              "      <td>0.499737</td>\n",
              "      <td>0.001049</td>\n",
              "    </tr>\n",
              "  </tbody>\n",
              "</table>\n",
              "</div>"
            ],
            "text/plain": [
              "      filename  y    pred_0    pred_1\n",
              "0  229958.jpeg  0  0.499995  0.000022\n",
              "1  559880.jpeg  0  0.499640  0.001433\n",
              "2  699970.jpeg  0  0.499997  0.000010\n",
              "3  609988.jpeg  0  0.499996  0.000016\n",
              "4  929917.jpeg  0  0.499737  0.001049"
            ]
          },
          "metadata": {}
        }
      ]
    },
    {
      "cell_type": "markdown",
      "metadata": {
        "id": "v8AH400idpTk"
      },
      "source": [
        "# 終わり"
      ]
    },
    {
      "cell_type": "code",
      "metadata": {
        "id": "bdBIu4za5umf",
        "colab": {
          "base_uri": "https://localhost:8080/"
        },
        "outputId": "29cbf76d-0c56-4c08-997d-a52d72b86ca0"
      },
      "source": [
        "#終了時刻\n",
        "time_of_finish = datetime.datetime.now(datetime.timezone(datetime.timedelta(hours=9)))\n",
        "print(\"finish_time=\",time_of_finish)\n",
        "print(\"total_time=\",time_of_finish-time_of_begin)"
      ],
      "execution_count": null,
      "outputs": [
        {
          "output_type": "stream",
          "name": "stdout",
          "text": [
            "finish_time= 2021-09-03 21:17:41.408513+09:00\n",
            "total_time= 0:08:39.469230\n"
          ]
        }
      ]
    }
  ]
}